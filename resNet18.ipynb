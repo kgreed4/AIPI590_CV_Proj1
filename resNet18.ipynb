{
 "cells": [
  {
   "cell_type": "markdown",
   "metadata": {},
   "source": [
    "# ResNet18 Model for Image Classification"
   ]
  },
  {
   "cell_type": "code",
   "execution_count": null,
   "metadata": {},
   "outputs": [],
   "source": [
    "# Importing the libraries\n",
    "import torchvision\n",
    "import torch\n",
    "import torch.nn as nn\n",
    "import torch.optim as optim\n",
    "import torch.nn.functional as F\n",
    "from torch.utils.data import DataLoader\n",
    "from torchvision import datasets, transforms, models\n",
    "from tqdm import tqdm\n",
    "import matplotlib.pyplot as plt\n",
    "import numpy as np\n",
    "import os\n",
    "import time\n",
    "from PIL import Image\n",
    "import cv2, glob\n",
    "import random\n",
    "import pandas as pd\n",
    "import numpy as np\n",
    "import seaborn as sns\n",
    "from sklearn.metrics import confusion_matrix"
   ]
  },
  {
   "cell_type": "code",
   "execution_count": null,
   "metadata": {},
   "outputs": [],
   "source": [
    "class Weather(Dataset):\n",
    "    def __init__(self, folder):\n",
    "        dew = glob(folder+'/dew/*.jpg')\n",
    "        fogsmog = glob(folder+'/fogsmog/*.jpg')\n",
    "        frost = glob(folder+'/frost/*.jpg')\n",
    "        glaze = glob(folder+'/glaze/*.jpg')\n",
    "        hail = glob(folder+'/hail/*.jpg')\n",
    "        lightning = glob(folder+'/lightning/*.jpg')\n",
    "        rain = glob(folder+'/rain/*.jpg')\n",
    "        rainbow = glob(folder+'/rainbow/*.jpg')\n",
    "        rime = glob(folder+'/rime/*.jpg')\n",
    "        sandstorm = glob(folder+'/sandstorm/*.jpg')\n",
    "        snow = glob(folder+'/snow/*.jpg')\n",
    "\n",
    "        # Accounting for class imbalance\n",
    "        self.fpaths = dew + fogsmog + frost + glaze + hail + lightning + rain + rainbow + rime + sandstorm + snow\n",
    "\n",
    "        # Normalizing the images\n",
    "        self.normalize = transforms.Normalize(mean=[0.485, 0.456, 0.406],std=[0.229, 0.224, 0.225])\n",
    "        \n",
    "        # Shuffling the images\n",
    "        from random import shuffle, seed; seed(10); shuffle(self.fpaths)\n",
    "\n",
    "        # Set targets\n",
    "        self.targets = self.targets = [fpath.split('/')[-2] for fpath in self.fpaths]\n",
    "\n",
    "    def __len__(self): return len(self.fpaths)\n",
    "\n",
    "    def __getitem__(self, ix):\n",
    "        f = self.fpaths[ix]\n",
    "        target = self.targets[ix]\n",
    "        im = (cv2.imread(f)[:,:,::-1])\n",
    "        im = cv2.resize(im, (224,224))\n",
    "        im = torch.tensor(im/255)\n",
    "        im = im.permute(2,0,1)\n",
    "        im = self.normalize(im) \n",
    "        return im.float().to(device), torch.tensor([target]).float().to(device)"
   ]
  },
  {
   "cell_type": "code",
   "execution_count": null,
   "metadata": {},
   "outputs": [],
   "source": [
    "train = []\n",
    "for line in os.open('train_images_labeled.csv'):\n",
    "    train.append(line.split(',')[0])\n",
    "\n",
    "test = []\n",
    "for line in os.open('test_images_labeled.csv'):\n",
    "    test.append(line.split(',')[0])\n",
    "\n",
    "val = []\n",
    "for line in os.open('val_images_labeled.csv'):\n",
    "    val.append(line.split(',')[0])\n",
    "\n",
    "train_data = Weather(train)"
   ]
  },
  {
   "cell_type": "code",
   "execution_count": null,
   "metadata": {},
   "outputs": [],
   "source": [
    "im, label = train_data[200]\n",
    "plt.imshow(im.permute(1,2,0).cpu())\n",
    "print(label)"
   ]
  },
  {
   "cell_type": "code",
   "execution_count": null,
   "metadata": {},
   "outputs": [],
   "source": [
    "def get_model():\n",
    "    model = models.resnet18(pretrained=True)\n",
    "    for param in model.parameters():\n",
    "        param.requires_grad = False\n",
    "    model.avgpool = nn.AdaptiveAvgPool2d(output_size=(1,1))\n",
    "    model.fc = nn.Sequential(nn.Flatten(),\n",
    "    nn.Linear(512, 128),\n",
    "    nn.ReLU(),\n",
    "    nn.Dropout(0.2),\n",
    "    nn.Linear(128, 1),\n",
    "    nn.Sigmoid())\n",
    "    loss_fn = nn.BCELoss()\n",
    "    optimizer = torch.optim.Adam(model.parameters(), lr= 1e-3)\n",
    "    return model.to(device), loss_fn, optimizer"
   ]
  },
  {
   "cell_type": "code",
   "execution_count": null,
   "metadata": {},
   "outputs": [],
   "source": [
    "!pip install torch_summary\n",
    "from torchsummary import summary\n",
    "model, criterion, optimizer = get_model()\n",
    "summary(model, torch.zeros(1,3,224,224))"
   ]
  },
  {
   "cell_type": "code",
   "execution_count": null,
   "metadata": {},
   "outputs": [],
   "source": []
  }
 ],
 "metadata": {
  "language_info": {
   "name": "python"
  }
 },
 "nbformat": 4,
 "nbformat_minor": 2
}
